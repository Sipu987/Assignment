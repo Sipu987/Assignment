{
 "cells": [
  {
   "cell_type": "code",
   "execution_count": 5,
   "id": "278578d4-ac99-46a9-8c7f-80ba22b9d988",
   "metadata": {},
   "outputs": [],
   "source": [
    "##Q1. What are the characteristics of the tuples? Is tuple immutable?"
   ]
  },
  {
   "cell_type": "code",
   "execution_count": 6,
   "id": "9fb0910b-8599-40a2-b2db-f4501be4f43d",
   "metadata": {},
   "outputs": [],
   "source": [
    "## Ans- Tuple stored data on round  barket. Data can not be changed. Tuple can be a key in dictionary. \n",
    "## It has  only 2 python Method i.e count and index\n",
    "## Yes, Tuple in immutable"
   ]
  },
  {
   "cell_type": "code",
   "execution_count": 7,
   "id": "ee8949ed-30c6-4082-9453-ef84dc98aa85",
   "metadata": {},
   "outputs": [],
   "source": [
    "##Q2. What are the two tuple methods in python? Give an example of each method. \n",
    "## Give a reason why tuples have only two in-built methods as compared to Lists."
   ]
  },
  {
   "cell_type": "code",
   "execution_count": 9,
   "id": "b47ff724-5209-4b86-9de3-d9f5fce8e54f",
   "metadata": {},
   "outputs": [
    {
     "data": {
      "text/plain": [
       "7"
      ]
     },
     "execution_count": 14,
     "metadata": {},
     "output_type": "execute_result"
    }
   ],
   "source": [
    "## Ans - Two tuple methos in python.. count and index. \n",
    "t1 = (1,2,2,3,3,3,4,5,6)"
   ]
  },
  {
   "cell_type": "code",
   "execution_count": 15,
   "id": "5476ab56-0021-4f5c-bed4-d47fbf646756",
   "metadata": {},
   "outputs": [
    {
     "data": {
      "text/plain": [
       "3"
      ]
     },
     "execution_count": 15,
     "metadata": {},
     "output_type": "execute_result"
    }
   ],
   "source": [
    "t1.count(3)"
   ]
  },
  {
   "cell_type": "code",
   "execution_count": 16,
   "id": "473d2c1f-4047-41e7-af2c-ac2310104bd2",
   "metadata": {},
   "outputs": [
    {
     "data": {
      "text/plain": [
       "7"
      ]
     },
     "execution_count": 16,
     "metadata": {},
     "output_type": "execute_result"
    }
   ],
   "source": [
    "t1.index(5)"
   ]
  },
  {
   "cell_type": "code",
   "execution_count": 17,
   "id": "1e6c5f72-cd1e-48e8-8bad-e2d8f2db3b79",
   "metadata": {},
   "outputs": [],
   "source": [
    "## Tuple is immutable, we can not change data in a tuple. Hence other built in methods does not perform in tuple."
   ]
  },
  {
   "cell_type": "code",
   "execution_count": 19,
   "id": "79283671-468a-4bbb-a6df-89b699c003d3",
   "metadata": {},
   "outputs": [],
   "source": [
    "##Q3. Which collection datatypes in python do not allow duplicate items? Write a code using a set to remove\n",
    "##duplicates from the given list.\n",
    "## List = [1, 1, 1, 2, 1, 3, 1, 4, 2, 1, 2, 2, 2, 3, 2, 4, 3, 1, 3, 2, 3, 3, 3, 4, 4, 1, 4, 2, 4, 3, 4, 4]"
   ]
  },
  {
   "cell_type": "code",
   "execution_count": 20,
   "id": "e491f138-cd1a-4d2a-b986-49d5783b2086",
   "metadata": {},
   "outputs": [],
   "source": [
    "## Ans - Set datatype does not allow duplicate items. "
   ]
  },
  {
   "cell_type": "code",
   "execution_count": 21,
   "id": "a2663308-7c14-4ef8-9524-b51247f34c8b",
   "metadata": {},
   "outputs": [],
   "source": [
    "List = [1, 1, 1, 2, 1, 3, 1, 4, 2, 1, 2, 2, 2, 3, 2, 4, 3, 1, 3, 2, 3, 3, 3, 4, 4, 1, 4, 2, 4, 3, 4, 4]"
   ]
  },
  {
   "cell_type": "code",
   "execution_count": 34,
   "id": "b952740e-e05e-4afd-88ac-ebeeaec023a1",
   "metadata": {},
   "outputs": [],
   "source": [
    "s1=set(List)"
   ]
  },
  {
   "cell_type": "code",
   "execution_count": 35,
   "id": "dea9a2be-c5d8-40fa-9e91-bd08046b1007",
   "metadata": {},
   "outputs": [
    {
     "data": {
      "text/plain": [
       "{1, 2, 3, 4}"
      ]
     },
     "execution_count": 35,
     "metadata": {},
     "output_type": "execute_result"
    }
   ],
   "source": [
    "s1"
   ]
  },
  {
   "cell_type": "code",
   "execution_count": 37,
   "id": "3711adc5-d748-422c-aeb4-31701c52ead5",
   "metadata": {},
   "outputs": [],
   "source": [
    "##Q4. Explain the difference between the union() and update() methods for a set. Give an example of\n",
    "##    each method."
   ]
  },
  {
   "cell_type": "code",
   "execution_count": 55,
   "id": "d68fce50-3539-4cf3-b7f5-4d765f6b7b1f",
   "metadata": {},
   "outputs": [],
   "source": [
    "## union() combines both elements of set. But values of both sets not changed\n",
    "## update() - add new elect of the updated set. It removed duplicate element"
   ]
  },
  {
   "cell_type": "code",
   "execution_count": 56,
   "id": "d2fdd2ec-f07b-47ef-9b63-b76f7f3b3440",
   "metadata": {},
   "outputs": [],
   "source": [
    "s1={1,2,3,4}\n",
    "s2={3,4,5,6}"
   ]
  },
  {
   "cell_type": "code",
   "execution_count": 57,
   "id": "1068e62c-5682-4ed1-90ba-1750cb7ab7f1",
   "metadata": {},
   "outputs": [
    {
     "data": {
      "text/plain": [
       "{1, 2, 3, 4, 5, 6}"
      ]
     },
     "execution_count": 57,
     "metadata": {},
     "output_type": "execute_result"
    }
   ],
   "source": [
    "s1.union(s2)"
   ]
  },
  {
   "cell_type": "code",
   "execution_count": 58,
   "id": "6e1bf02d-d06d-4d16-a541-0c8bca8ada40",
   "metadata": {},
   "outputs": [
    {
     "data": {
      "text/plain": [
       "{1, 2, 3, 4}"
      ]
     },
     "execution_count": 58,
     "metadata": {},
     "output_type": "execute_result"
    }
   ],
   "source": [
    "s1"
   ]
  },
  {
   "cell_type": "code",
   "execution_count": 59,
   "id": "350d5073-d552-4ad2-aca6-1d4ccdb11f96",
   "metadata": {},
   "outputs": [
    {
     "data": {
      "text/plain": [
       "{3, 4, 5, 6}"
      ]
     },
     "execution_count": 59,
     "metadata": {},
     "output_type": "execute_result"
    }
   ],
   "source": [
    "s2"
   ]
  },
  {
   "cell_type": "code",
   "execution_count": 60,
   "id": "2f8a371b-7feb-4532-ad0d-9c2afc745cf5",
   "metadata": {},
   "outputs": [],
   "source": [
    "s1.update(s2)"
   ]
  },
  {
   "cell_type": "code",
   "execution_count": 61,
   "id": "d55d4c4e-1d3a-40ce-a396-05a723373966",
   "metadata": {},
   "outputs": [
    {
     "data": {
      "text/plain": [
       "{1, 2, 3, 4, 5, 6}"
      ]
     },
     "execution_count": 61,
     "metadata": {},
     "output_type": "execute_result"
    }
   ],
   "source": [
    "s1"
   ]
  },
  {
   "cell_type": "code",
   "execution_count": 62,
   "id": "a2943e5c-5a09-4a6b-8408-1ba4df7c7dbb",
   "metadata": {},
   "outputs": [
    {
     "data": {
      "text/plain": [
       "{3, 4, 5, 6}"
      ]
     },
     "execution_count": 62,
     "metadata": {},
     "output_type": "execute_result"
    }
   ],
   "source": [
    "s2"
   ]
  },
  {
   "cell_type": "code",
   "execution_count": 63,
   "id": "3c06f13c-31f0-4722-bf2d-1a5d247d89ab",
   "metadata": {},
   "outputs": [],
   "source": [
    "## Q5. What is a dictionary? Give an example. Also, state whether a dictionary is ordered or unordered."
   ]
  },
  {
   "cell_type": "code",
   "execution_count": 64,
   "id": "c9323740-f399-4c2b-b522-0869bd3dd9b8",
   "metadata": {},
   "outputs": [],
   "source": [
    "## Dictionary is a combination of keys and values. stored data in {} barket. Dictionary is ordered data"
   ]
  },
  {
   "cell_type": "code",
   "execution_count": 65,
   "id": "83ca7f2e-167c-413f-9bce-342feb268c00",
   "metadata": {},
   "outputs": [],
   "source": [
    "d1={'a':1,'b':4,'c':5}"
   ]
  },
  {
   "cell_type": "code",
   "execution_count": 66,
   "id": "99a63439-802c-4882-9cd0-d5a5a8732ce3",
   "metadata": {},
   "outputs": [
    {
     "data": {
      "text/plain": [
       "dict"
      ]
     },
     "execution_count": 66,
     "metadata": {},
     "output_type": "execute_result"
    }
   ],
   "source": [
    "type(d1)"
   ]
  },
  {
   "cell_type": "code",
   "execution_count": 67,
   "id": "3707cc6a-fa5b-4c94-9a4b-d11b46ac772b",
   "metadata": {},
   "outputs": [],
   "source": [
    "## Q6. Can we create a nested dictionary? If so, please give an example by creating a simple one-level\n",
    "## nested dictionary."
   ]
  },
  {
   "cell_type": "code",
   "execution_count": 68,
   "id": "e130cc82-2013-4f36-8d84-1e80536eaa46",
   "metadata": {},
   "outputs": [],
   "source": [
    "## Yes, we can create a nested dictionary.\n",
    "d1={'name':{'Brand':'Nike','Dog':'Tommy','Bird':'Titu'}}"
   ]
  },
  {
   "cell_type": "code",
   "execution_count": 70,
   "id": "2bd47574-54bd-451f-96a8-c1c7b52341b6",
   "metadata": {},
   "outputs": [],
   "source": [
    "## Q7. Using setdefault() method, create key named topics in the given dictionary and also add the value of\n",
    "## the key as this list ['Python', 'Machine Learning’, 'Deep Learning']"
   ]
  },
  {
   "cell_type": "code",
   "execution_count": 118,
   "id": "bea1a15e-9a0a-4fe7-b7b5-474dd439b834",
   "metadata": {},
   "outputs": [],
   "source": [
    "dict2 = {'language' : 'Python', 'course': 'Data Science Masters'}"
   ]
  },
  {
   "cell_type": "code",
   "execution_count": 119,
   "id": "c147b61f-6aae-4b62-8eed-32fa73ed68dd",
   "metadata": {},
   "outputs": [],
   "source": [
    "x=dict2.setdefault('Machine Learning','Deep Learning')"
   ]
  },
  {
   "cell_type": "code",
   "execution_count": 120,
   "id": "7bb656ff-816b-45b6-b961-204c1f1c53b5",
   "metadata": {},
   "outputs": [
    {
     "name": "stdout",
     "output_type": "stream",
     "text": [
      "Deep Learning\n"
     ]
    }
   ],
   "source": [
    "print(x)"
   ]
  },
  {
   "cell_type": "code",
   "execution_count": 121,
   "id": "c172cc3d-224d-4aa8-a61e-b97dac1460de",
   "metadata": {},
   "outputs": [
    {
     "data": {
      "text/plain": [
       "{'language': 'Python',\n",
       " 'course': 'Data Science Masters',\n",
       " 'Machine Learning': 'Deep Learning'}"
      ]
     },
     "execution_count": 121,
     "metadata": {},
     "output_type": "execute_result"
    }
   ],
   "source": [
    "dict2"
   ]
  },
  {
   "cell_type": "code",
   "execution_count": 84,
   "id": "1137a1ce-c876-4c37-9cb9-1aaf338424e8",
   "metadata": {},
   "outputs": [],
   "source": [
    "## Q8. What are the three view objects in dictionaries? Use the three in-built methods in python to display\n",
    "## these three view objects for the given dictionary."
   ]
  },
  {
   "cell_type": "code",
   "execution_count": 85,
   "id": "f63367b0-427b-480b-a96d-2fcb0137fbb9",
   "metadata": {},
   "outputs": [],
   "source": [
    "dict1 = {'Sport': 'Cricket' , 'Teams': ['India', 'Australia', 'England', 'South Africa', 'Sri Lanka', 'New Zealand']}"
   ]
  },
  {
   "cell_type": "code",
   "execution_count": 89,
   "id": "e347c9c9-da5e-4cd1-b367-835aa68f18d3",
   "metadata": {},
   "outputs": [
    {
     "data": {
      "text/plain": [
       "dict_keys(['Sport', 'Teams'])"
      ]
     },
     "execution_count": 89,
     "metadata": {},
     "output_type": "execute_result"
    }
   ],
   "source": [
    "dict1.keys()"
   ]
  },
  {
   "cell_type": "code",
   "execution_count": 90,
   "id": "2687d30a-861e-4792-b990-8cbf92f4ffb9",
   "metadata": {},
   "outputs": [
    {
     "data": {
      "text/plain": [
       "dict_values(['Cricket', ['India', 'Australia', 'England', 'South Africa', 'Sri Lanka', 'New Zealand']])"
      ]
     },
     "execution_count": 90,
     "metadata": {},
     "output_type": "execute_result"
    }
   ],
   "source": [
    "dict1.values()"
   ]
  },
  {
   "cell_type": "code",
   "execution_count": 91,
   "id": "c3df605f-661c-4a92-aeaf-5b85cc1cca49",
   "metadata": {},
   "outputs": [
    {
     "data": {
      "text/plain": [
       "dict_items([('Sport', 'Cricket'), ('Teams', ['India', 'Australia', 'England', 'South Africa', 'Sri Lanka', 'New Zealand'])])"
      ]
     },
     "execution_count": 91,
     "metadata": {},
     "output_type": "execute_result"
    }
   ],
   "source": [
    "dict1.items()"
   ]
  }
 ],
 "metadata": {
  "kernelspec": {
   "display_name": "Python 3 (ipykernel)",
   "language": "python",
   "name": "python3"
  },
  "language_info": {
   "codemirror_mode": {
    "name": "ipython",
    "version": 3
   },
   "file_extension": ".py",
   "mimetype": "text/x-python",
   "name": "python",
   "nbconvert_exporter": "python",
   "pygments_lexer": "ipython3",
   "version": "3.10.8"
  }
 },
 "nbformat": 4,
 "nbformat_minor": 5
}
